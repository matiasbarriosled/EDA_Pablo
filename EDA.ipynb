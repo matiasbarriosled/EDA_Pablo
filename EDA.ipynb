{
 "cells": [
  {
   "cell_type": "code",
   "execution_count": 2,
   "metadata": {},
   "outputs": [],
   "source": [
    "import pandas as pd\n",
    "import json"
   ]
  },
  {
   "cell_type": "code",
   "execution_count": 30,
   "metadata": {},
   "outputs": [],
   "source": [
    "# Ajustar la opción para mostrar más caracteres en cada columna\n",
    "pd.set_option('display.max_colwidth', None)"
   ]
  },
  {
   "cell_type": "code",
   "execution_count": 6,
   "metadata": {},
   "outputs": [],
   "source": [
    "# Abrir el archivo JSON y leer línea por línea\n",
    "with open(r'C:\\\\Users\\\\Pablo\\\\OneDrive\\\\Henry\\\\Proyecto Final\\\\Google Maps\\\\metadata-sitios\\\\1.json') as file:\n",
    "    data = [json.loads(line) for line in file]\n",
    "\n",
    "# Convertir la lista de diccionarios en un DataFrame\n",
    "df1 = pd.DataFrame(data)"
   ]
  },
  {
   "cell_type": "code",
   "execution_count": 7,
   "metadata": {},
   "outputs": [],
   "source": [
    "# Ruta al archivo JSON\n",
    "ruta_json = r'C:\\Users\\Pablo\\OneDrive\\Henry\\Proyecto Final\\Google Maps\\metadata-sitios\\2.json'\n",
    "# Leer el JSON en un DataFrame\n",
    "df2 = pd.read_json(ruta_json, lines=True)\n",
    "\n",
    "# Ruta al archivo JSON\n",
    "ruta_json = r'C:\\Users\\Pablo\\OneDrive\\Henry\\Proyecto Final\\Google Maps\\metadata-sitios\\3.json'\n",
    "# Leer el JSON en un DataFrame\n",
    "df3 = pd.read_json(ruta_json, lines=True)\n",
    "\n",
    "# Ruta al archivo JSON\n",
    "ruta_json = r'C:\\Users\\Pablo\\OneDrive\\Henry\\Proyecto Final\\Google Maps\\metadata-sitios\\4.json'\n",
    "# Leer el JSON en un DataFrame\n",
    "df4 = pd.read_json(ruta_json, lines=True)\n",
    "\n",
    "\n",
    "# Ruta al archivo JSON\n",
    "ruta_json = r'C:\\Users\\Pablo\\OneDrive\\Henry\\Proyecto Final\\Google Maps\\metadata-sitios\\5.json'\n",
    "# Leer el JSON en un DataFrame\n",
    "df5 = pd.read_json(ruta_json, lines=True)\n",
    "\n",
    "\n",
    "# Ruta al archivo JSON\n",
    "ruta_json = r'C:\\Users\\Pablo\\OneDrive\\Henry\\Proyecto Final\\Google Maps\\metadata-sitios\\6.json'\n",
    "# Leer el JSON en un DataFrame\n",
    "df6 = pd.read_json(ruta_json, lines=True)\n",
    "\n",
    "\n",
    "# Ruta al archivo JSON\n",
    "ruta_json = r'C:\\Users\\Pablo\\OneDrive\\Henry\\Proyecto Final\\Google Maps\\metadata-sitios\\7.json'\n",
    "# Leer el JSON en un DataFrame\n",
    "df7 = pd.read_json(ruta_json, lines=True)\n",
    "\n",
    "\n",
    "# Ruta al archivo JSON\n",
    "ruta_json = r'C:\\Users\\Pablo\\OneDrive\\Henry\\Proyecto Final\\Google Maps\\metadata-sitios\\8.json'\n",
    "# Leer el JSON en un DataFrame\n",
    "df8 = pd.read_json(ruta_json, lines=True)\n",
    "\n",
    "\n",
    "# Ruta al archivo JSON\n",
    "ruta_json = r'C:\\Users\\Pablo\\OneDrive\\Henry\\Proyecto Final\\Google Maps\\metadata-sitios\\9.json'\n",
    "# Leer el JSON en un DataFrame\n",
    "df9 = pd.read_json(ruta_json, lines=True)\n",
    "\n",
    "\n",
    "# Ruta al archivo JSON\n",
    "ruta_json = r'C:\\Users\\Pablo\\OneDrive\\Henry\\Proyecto Final\\Google Maps\\metadata-sitios\\10.json'\n",
    "# Leer el JSON en un DataFrame\n",
    "df10 = pd.read_json(ruta_json, lines=True)"
   ]
  },
  {
   "cell_type": "code",
   "execution_count": 9,
   "metadata": {},
   "outputs": [],
   "source": [
    "def extractCity(df):\n",
    "    \"\"\"\n",
    "    Esta función toma un DataFrame que contiene una columna llamada 'address', \n",
    "    la cual tiene direcciones formateadas con comas. La función extrae el valor\n",
    "    que está entre la segunda y tercera coma (que representa la ciudad) y lo \n",
    "    almacena en una nueva columna llamada 'city'.\n",
    "\n",
    "    Parámetros:\n",
    "    df (DataFrame): El DataFrame que contiene la columna 'address'.\n",
    "\n",
    "    Retorna:\n",
    "    DataFrame: El DataFrame original con una nueva columna 'city' que contiene \n",
    "               el valor entre la segunda y tercera coma de 'address'.\n",
    "    \"\"\"\n",
    "    \n",
    "    # Dividir la columna 'address' en partes usando la coma como delimitador\n",
    "    # Luego, extraer el segundo elemento (índice 2), que está entre la segunda y tercera coma\n",
    "\n",
    "    df['city'] = df['address'].str.split(',').str[2].str.strip()\n",
    "    \n",
    "    return df"
   ]
  },
  {
   "cell_type": "code",
   "execution_count": 18,
   "metadata": {},
   "outputs": [],
   "source": [
    "def nulosYVacios(df):\n",
    "    \"\"\"\n",
    "    Este procedimiento recibe un DataFrame y muestra la cantidad de valores nulos y vacíos por columna.\n",
    "\n",
    "    Args:\n",
    "    df (pd.DataFrame): El DataFrame a analizar.\n",
    "    \"\"\"\n",
    "    print(\"Informe de Nulos y Vacíos:\")\n",
    "    print(\"-\" * 30)\n",
    "\n",
    "    for columna in df.columns:\n",
    "        # Contar valores nulos\n",
    "        nulos = df[columna].isnull().sum()\n",
    "        \n",
    "        # Contar valores vacíos (considerando que solo se cuentan si son cadenas)\n",
    "        vacios = (df[columna] == '').sum() if df[columna].dtype == 'object' else 0\n",
    "\n",
    "        # Total de filas\n",
    "        total = len(df)\n",
    "\n",
    "        # Calcular porcentajes\n",
    "        porcentaje_nulos = (nulos / total) * 100 if total > 0 else 0\n",
    "        porcentaje_vacios = (vacios / total) * 100 if total > 0 else 0\n",
    "\n",
    "        # Imprimir resultados\n",
    "        print(f\"Columna: {columna}\")\n",
    "        print(f\"  Valores Nulos: {nulos}\")\n",
    "        print(f\"  Valores Vacíos: {vacios}\")\n",
    "        print(f\"  Porcentaje Nulos: {porcentaje_nulos:.2f}%\")\n",
    "        print(f\"  Porcentaje Vacíos: {porcentaje_vacios:.2f}%\")\n",
    "        print(\"-\" * 30)\n",
    "\n",
    "# Ejemplo de uso\n",
    "# df1 = pd.read_csv('ruta/a/tu/archivo.csv')\n",
    "# nulos_y_vacios(df1)\n",
    "\n"
   ]
  },
  {
   "cell_type": "markdown",
   "metadata": {},
   "source": [
    "Análisis preliminar de calidad de datos"
   ]
  },
  {
   "cell_type": "code",
   "execution_count": null,
   "metadata": {},
   "outputs": [],
   "source": [
    "# Obtener la ciudad donde se encuentra el sitio con reseña\n",
    "extractCity(df1)\n",
    "extractCity(df2)\n",
    "extractCity(df3)\n",
    "extractCity(df4)\n",
    "extractCity(df5)\n",
    "extractCity(df6)\n",
    "extractCity(df7)\n",
    "extractCity(df8)\n",
    "extractCity(df9)\n",
    "extractCity(df10)"
   ]
  },
  {
   "cell_type": "code",
   "execution_count": 36,
   "metadata": {},
   "outputs": [],
   "source": [
    "def rankingFrecuenciaCiudad(df, x=10):\n",
    "    \"\"\"\n",
    "    Este procedimiento recibe un DataFrame y un número entero x.\n",
    "    Muestra en pantalla el ranking de los primeros x elementos con mayor frecuencia en la columna 'city'.\n",
    "\n",
    "    Args:\n",
    "    df (pd.DataFrame): El DataFrame a analizar.\n",
    "    x (int): El número de elementos a mostrar en el ranking.\n",
    "    \"\"\"\n",
    "    print(f\"Ranking de los primeros {x} elementos más frecuentes en la columna 'city':\")\n",
    "    print(\"-\" * 60)\n",
    "\n",
    "    # Verifica si la columna 'city' existe en el DataFrame\n",
    "    if 'city' in df.columns:\n",
    "        # Obtener la frecuencia de cada valor en la columna 'city'\n",
    "        frecuencias = df['city'].value_counts()\n",
    "\n",
    "        # Obtener los primeros x elementos con mayor frecuencia\n",
    "        ranking = frecuencias.head(x)\n",
    "\n",
    "        # Mostrar el ranking\n",
    "        for index, value in ranking.items():\n",
    "            print(f\"{index}: {value}\")\n",
    "    else:\n",
    "        print(\"La columna 'city' no existe en el DataFrame.\")\n",
    "\n",
    "    print(\"-\" * 60)"
   ]
  },
  {
   "cell_type": "markdown",
   "metadata": {},
   "source": [
    "Frecuencia de recomendaciones por ciudad segun google Maps"
   ]
  },
  {
   "cell_type": "code",
   "execution_count": 37,
   "metadata": {},
   "outputs": [
    {
     "name": "stdout",
     "output_type": "stream",
     "text": [
      "Ranking de los primeros 10 elementos más frecuentes en la columna 'city':\n",
      "------------------------------------------------------------\n",
      "Houston: 2599\n",
      "New York: 1903\n",
      "Chicago: 1799\n",
      "Los Angeles: 1663\n",
      "Brooklyn: 1550\n",
      "San Antonio: 1200\n",
      "Dallas: 1154\n",
      "Miami: 1139\n",
      "Las Vegas: 1089\n",
      "Philadelphia: 1044\n",
      "------------------------------------------------------------\n"
     ]
    }
   ],
   "source": [
    "# Obtener la frecuencia de cada valor en la columna 'city'\n",
    "rankingFrecuenciaCiudad(df1)"
   ]
  },
  {
   "cell_type": "code",
   "execution_count": 30,
   "metadata": {},
   "outputs": [
    {
     "name": "stdout",
     "output_type": "stream",
     "text": [
      "Ranking de los primeros 10 elementos más frecuentes en la columna 'city':\n",
      "------------------------------------------------------------\n",
      "Houston: 2640\n",
      "New York: 1772\n",
      "Chicago: 1717\n",
      "Los Angeles: 1486\n",
      "Brooklyn: 1443\n",
      "Las Vegas: 1207\n",
      "San Antonio: 1205\n",
      "Miami: 1178\n",
      "Dallas: 1166\n",
      "Philadelphia: 1116\n",
      "------------------------------------------------------------\n"
     ]
    }
   ],
   "source": [
    "rankingFrecuenciaCiudad(df2)"
   ]
  },
  {
   "cell_type": "code",
   "execution_count": 32,
   "metadata": {},
   "outputs": [
    {
     "name": "stdout",
     "output_type": "stream",
     "text": [
      "Ranking de los primeros 10 elementos más frecuentes en la columna 'city':\n",
      "------------------------------------------------------------\n",
      "Houston: 2669\n",
      "New York: 1873\n",
      "Chicago: 1737\n",
      "Los Angeles: 1590\n",
      "Brooklyn: 1586\n",
      "Miami: 1288\n",
      "Dallas: 1237\n",
      "San Antonio: 1199\n",
      "Las Vegas: 1109\n",
      "Philadelphia: 1085\n",
      "------------------------------------------------------------\n"
     ]
    }
   ],
   "source": [
    "rankingFrecuenciaCiudad(df3)"
   ]
  },
  {
   "cell_type": "code",
   "execution_count": 33,
   "metadata": {},
   "outputs": [
    {
     "name": "stdout",
     "output_type": "stream",
     "text": [
      "Ranking de los primeros 10 elementos más frecuentes en la columna 'city':\n",
      "------------------------------------------------------------\n",
      "Houston: 2511\n",
      "New York: 1855\n",
      "Los Angeles: 1713\n",
      "Chicago: 1679\n",
      "Brooklyn: 1596\n",
      "Miami: 1337\n",
      "San Antonio: 1249\n",
      "Las Vegas: 1229\n",
      "Philadelphia: 1204\n",
      "Dallas: 1143\n",
      "------------------------------------------------------------\n",
      "Ranking de los primeros 10 elementos más frecuentes en la columna 'city':\n",
      "------------------------------------------------------------\n",
      "Houston: 2504\n",
      "New York: 1825\n",
      "Chicago: 1763\n",
      "Los Angeles: 1625\n",
      "Brooklyn: 1610\n",
      "San Antonio: 1299\n",
      "Dallas: 1185\n",
      "Miami: 1148\n",
      "Phoenix: 1071\n",
      "Philadelphia: 1051\n",
      "------------------------------------------------------------\n",
      "Ranking de los primeros 10 elementos más frecuentes en la columna 'city':\n",
      "------------------------------------------------------------\n",
      "Houston: 2598\n",
      "Chicago: 1812\n",
      "New York: 1810\n",
      "Brooklyn: 1636\n",
      "Los Angeles: 1401\n",
      "San Antonio: 1366\n",
      "Dallas: 1288\n",
      "Miami: 1232\n",
      "Las Vegas: 1172\n",
      "Phoenix: 1119\n",
      "------------------------------------------------------------\n",
      "Ranking de los primeros 10 elementos más frecuentes en la columna 'city':\n",
      "------------------------------------------------------------\n",
      "Houston: 2714\n",
      "New York: 1921\n",
      "Chicago: 1651\n",
      "Brooklyn: 1515\n",
      "Los Angeles: 1485\n",
      "San Antonio: 1374\n",
      "Dallas: 1200\n",
      "Philadelphia: 1191\n",
      "Miami: 1184\n",
      "Las Vegas: 1136\n",
      "------------------------------------------------------------\n",
      "Ranking de los primeros 10 elementos más frecuentes en la columna 'city':\n",
      "------------------------------------------------------------\n",
      "Houston: 2898\n",
      "New York: 1990\n",
      "Chicago: 1927\n",
      "San Antonio: 1691\n",
      "Brooklyn: 1501\n",
      "Los Angeles: 1458\n",
      "Dallas: 1341\n",
      "Las Vegas: 1302\n",
      "Miami: 1297\n",
      "Philadelphia: 1271\n",
      "------------------------------------------------------------\n",
      "Ranking de los primeros 10 elementos más frecuentes en la columna 'city':\n",
      "------------------------------------------------------------\n",
      "Houston: 2686\n",
      "New York: 2018\n",
      "Chicago: 1821\n",
      "Los Angeles: 1558\n",
      "Brooklyn: 1539\n",
      "Dallas: 1317\n",
      "Las Vegas: 1307\n",
      "San Antonio: 1304\n",
      "San Diego: 1111\n",
      "Philadelphia: 1100\n",
      "------------------------------------------------------------\n",
      "Ranking de los primeros 10 elementos más frecuentes en la columna 'city':\n",
      "------------------------------------------------------------\n",
      "Houston: 2899\n",
      "Chicago: 2144\n",
      "New York: 1935\n",
      "Los Angeles: 1602\n",
      "Brooklyn: 1525\n",
      "San Antonio: 1473\n",
      "Las Vegas: 1348\n",
      "Dallas: 1223\n",
      "Phoenix: 1167\n",
      "Jacksonville: 1135\n",
      "------------------------------------------------------------\n"
     ]
    }
   ],
   "source": [
    "rankingFrecuenciaCiudad(df4)\n",
    "rankingFrecuenciaCiudad(df5)\n",
    "rankingFrecuenciaCiudad(df6)\n",
    "rankingFrecuenciaCiudad(df7)\n",
    "rankingFrecuenciaCiudad(df8)\n",
    "rankingFrecuenciaCiudad(df9)\n",
    "rankingFrecuenciaCiudad(df10)"
   ]
  },
  {
   "cell_type": "code",
   "execution_count": 8,
   "metadata": {},
   "outputs": [
    {
     "name": "stdout",
     "output_type": "stream",
     "text": [
      "               name                                            address  \\\n",
      "0   Porter Pharmacy  Porter Pharmacy, 129 N Second St, Cochran, GA ...   \n",
      "1      City Textile  City Textile, 3001 E Pico Blvd, Los Angeles, C...   \n",
      "2      San Soo Dang  San Soo Dang, 761 S Vermont Ave, Los Angeles, ...   \n",
      "3      Nova Fabrics  Nova Fabrics, 2200 E 11th St, Los Angeles, CA ...   \n",
      "4  Nobel Textile Co  Nobel Textile Co, 719 E 9th St, Los Angeles, C...   \n",
      "\n",
      "                                 gmap_id description   latitude   longitude  \\\n",
      "0  0x88f16e41928ff687:0x883dad4fd048e8f8        None  32.388300  -83.357100   \n",
      "1  0x80c2c98c0e3c16fd:0x29ec8a728764fdf9        None  34.018891 -118.215290   \n",
      "2  0x80c2c778e3b73d33:0xbdc58662a4a97d49        None  34.058092 -118.292130   \n",
      "3   0x80c2c89923b27a41:0x32041559418d447        None  34.023669 -118.232930   \n",
      "4  0x80c2c632f933b073:0xc31785961fe826a6        None  34.036694 -118.249421   \n",
      "\n",
      "              category  avg_rating  num_of_reviews  \\\n",
      "0           [Pharmacy]         4.9              16   \n",
      "1   [Textile exporter]         4.5               6   \n",
      "2  [Korean restaurant]         4.4              18   \n",
      "3       [Fabric store]         3.3               6   \n",
      "4       [Fabric store]         4.3               7   \n",
      "\n",
      "                                               hours  \\\n",
      "0  [[Friday, 8AM–6PM], [Saturday, 8AM–12PM], [Sun...   \n",
      "1                                               None   \n",
      "2  [[Thursday, 6:30AM–6PM], [Friday, 6:30AM–6PM],...   \n",
      "3  [[Thursday, 9AM–5PM], [Friday, 9AM–5PM], [Satu...   \n",
      "4  [[Thursday, 9AM–5PM], [Friday, 9AM–5PM], [Satu...   \n",
      "\n",
      "                                                MISC  \n",
      "0  {'Service options': ['In-store shopping', 'Sam...  \n",
      "1                                               None  \n",
      "2  {'Service options': ['Takeout', 'Dine-in', 'De...  \n",
      "3  {'Service options': ['In-store shopping'], 'Pa...  \n",
      "4           {'Service options': ['In-store pickup']}  \n"
     ]
    }
   ],
   "source": [
    "# Eliminar las columnas 'url', 'relative_results', 'state' y 'price'\n",
    "df_cleaned = df1.drop(columns=['url', 'relative_results', 'state', 'price'])\n",
    "\n",
    "# Ver las primeras filas del DataFrame limpio\n",
    "print(df_cleaned.head())"
   ]
  },
  {
   "cell_type": "code",
   "execution_count": 13,
   "metadata": {},
   "outputs": [
    {
     "name": "stdout",
     "output_type": "stream",
     "text": [
      "{'Service options': ['In-store shopping', 'Same-day delivery'], 'Health & safety': ['Mask required', 'Staff required to disinfect surfaces between visits'], 'Accessibility': ['Wheelchair accessible entrance'], 'Planning': ['Quick visit']}\n"
     ]
    }
   ],
   "source": [
    "print(df_cleaned['MISC'][0])\n"
   ]
  },
  {
   "cell_type": "code",
   "execution_count": 19,
   "metadata": {},
   "outputs": [
    {
     "name": "stdout",
     "output_type": "stream",
     "text": [
      "<class 'pandas.core.frame.DataFrame'>\n",
      "RangeIndex: 275001 entries, 0 to 275000\n",
      "Data columns (total 11 columns):\n",
      " #   Column          Non-Null Count   Dtype  \n",
      "---  ------          --------------   -----  \n",
      " 0   name            274994 non-null  object \n",
      " 1   address         264939 non-null  object \n",
      " 2   gmap_id         275001 non-null  object \n",
      " 3   description     13155 non-null   object \n",
      " 4   latitude        275001 non-null  float64\n",
      " 5   longitude       275001 non-null  float64\n",
      " 6   category        272740 non-null  object \n",
      " 7   avg_rating      275001 non-null  float64\n",
      " 8   num_of_reviews  275001 non-null  int64  \n",
      " 9   hours           192448 non-null  object \n",
      " 10  MISC            194972 non-null  object \n",
      "dtypes: float64(3), int64(1), object(7)\n",
      "memory usage: 23.1+ MB\n"
     ]
    }
   ],
   "source": [
    "df_cleaned.info()"
   ]
  },
  {
   "cell_type": "code",
   "execution_count": 14,
   "metadata": {},
   "outputs": [
    {
     "name": "stdout",
     "output_type": "stream",
     "text": [
      "                          Service options  \\\n",
      "0  [In-store shopping, Same-day delivery]   \n",
      "1                                     NaN   \n",
      "2            [Takeout, Dine-in, Delivery]   \n",
      "3                     [In-store shopping]   \n",
      "4                       [In-store pickup]   \n",
      "\n",
      "                                     Health & safety  \\\n",
      "0  [Mask required, Staff required to disinfect su...   \n",
      "1                                                NaN   \n",
      "2                                                NaN   \n",
      "3                                                NaN   \n",
      "4                                                NaN   \n",
      "\n",
      "                      Accessibility       Planning       Offerings  \\\n",
      "0  [Wheelchair accessible entrance]  [Quick visit]             NaN   \n",
      "1                               NaN            NaN             NaN   \n",
      "2  [Wheelchair accessible entrance]            NaN  [Comfort food]   \n",
      "3                               NaN            NaN             NaN   \n",
      "4                               NaN            NaN             NaN   \n",
      "\n",
      "         Amenities Atmosphere                             Payments  \\\n",
      "0              NaN        NaN                                  NaN   \n",
      "1              NaN        NaN                                  NaN   \n",
      "2  [Good for kids]   [Casual]                                  NaN   \n",
      "3              NaN        NaN  [Checks, Debit cards, Credit cards]   \n",
      "4              NaN        NaN                                  NaN   \n",
      "\n",
      "  Popular for Dining options Crowd From the business Highlights Recycling  \\\n",
      "0         NaN            NaN   NaN               NaN        NaN       NaN   \n",
      "1         NaN            NaN   NaN               NaN        NaN       NaN   \n",
      "2         NaN            NaN   NaN               NaN        NaN       NaN   \n",
      "3         NaN            NaN   NaN               NaN        NaN       NaN   \n",
      "4         NaN            NaN   NaN               NaN        NaN       NaN   \n",
      "\n",
      "  Getting here Activities                                gmap_id  \n",
      "0          NaN        NaN  0x88f16e41928ff687:0x883dad4fd048e8f8  \n",
      "1          NaN        NaN  0x80c2c98c0e3c16fd:0x29ec8a728764fdf9  \n",
      "2          NaN        NaN  0x80c2c778e3b73d33:0xbdc58662a4a97d49  \n",
      "3          NaN        NaN   0x80c2c89923b27a41:0x32041559418d447  \n",
      "4          NaN        NaN  0x80c2c632f933b073:0xc31785961fe826a6  \n"
     ]
    }
   ],
   "source": [
    "# Normaliza la columna MISC\n",
    "# 1. Primero, crea un nuevo DataFrame a partir de la columna MISC\n",
    "df_misc_normalized = pd.json_normalize(df_cleaned['MISC'])\n",
    "\n",
    "# 2. Combina el DataFrame normalizado con gmap_id\n",
    "# Añade la columna gmap_id al DataFrame normalizado\n",
    "df_misc_normalized['gmap_id'] = df_cleaned['gmap_id']\n",
    "\n",
    "# 3. Si deseas ver el resultado\n",
    "print(df_misc_normalized.head())\n"
   ]
  },
  {
   "cell_type": "code",
   "execution_count": 17,
   "metadata": {},
   "outputs": [
    {
     "name": "stdout",
     "output_type": "stream",
     "text": [
      "<class 'pandas.core.frame.DataFrame'>\n",
      "RangeIndex: 275001 entries, 0 to 275000\n",
      "Data columns (total 17 columns):\n",
      " #   Column             Non-Null Count   Dtype \n",
      "---  ------             --------------   ----- \n",
      " 0   Service options    64020 non-null   object\n",
      " 1   Health & safety    24998 non-null   object\n",
      " 2   Accessibility      158685 non-null  object\n",
      " 3   Planning           62652 non-null   object\n",
      " 4   Offerings          24728 non-null   object\n",
      " 5   Amenities          35529 non-null   object\n",
      " 6   Atmosphere         9758 non-null    object\n",
      " 7   Payments           22117 non-null   object\n",
      " 8   Popular for        6643 non-null    object\n",
      " 9   Dining options     6297 non-null    object\n",
      " 10  Crowd              6962 non-null    object\n",
      " 11  From the business  8699 non-null    object\n",
      " 12  Highlights         12086 non-null   object\n",
      " 13  Recycling          125 non-null     object\n",
      " 14  Getting here       129 non-null     object\n",
      " 15  Activities         28 non-null      object\n",
      " 16  gmap_id            275001 non-null  object\n",
      "dtypes: object(17)\n",
      "memory usage: 35.7+ MB\n"
     ]
    }
   ],
   "source": [
    "# Supongamos que hay una clave 'Service options' en el DataFrame normalizado\n",
    "if 'Service options' in df_misc_normalized.columns:\n",
    "    df_exploded = df_misc_normalized.explode('Service options')\n",
    "    print(df_exploded.head())\n"
   ]
  }
 ],
 "metadata": {
  "kernelspec": {
   "display_name": "Python 3",
   "language": "python",
   "name": "python3"
  },
  "language_info": {
   "codemirror_mode": {
    "name": "ipython",
    "version": 3
   },
   "file_extension": ".py",
   "mimetype": "text/x-python",
   "name": "python",
   "nbconvert_exporter": "python",
   "pygments_lexer": "ipython3",
   "version": "3.10.10"
  }
 },
 "nbformat": 4,
 "nbformat_minor": 2
}
